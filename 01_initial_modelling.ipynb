{
 "cells": [
  {
   "cell_type": "code",
   "execution_count": 1,
   "metadata": {
    "collapsed": true
   },
   "outputs": [
    {
     "name": "stderr",
     "output_type": "stream",
     "text": [
      "WARNING:root:Requests made without an app_token will be subject to strict throttling limits.\n"
     ]
    }
   ],
   "source": [
    "import pandas as pd\n",
    "from sodapy import Socrata\n",
    "import polars as pl\n",
    "\n",
    "\n",
    "client = Socrata(\"data.calgary.ca\", None)\n",
    "results = client.get(\"6zp6-pxei\", limit=9_000_000)\n",
    "results_df = pl.from_records(results)"
   ]
  },
  {
   "cell_type": "code",
   "execution_count": 2,
   "outputs": [],
   "source": [
    "results_df.write_parquet(\"data/calgary_pl.parquet\")"
   ],
   "metadata": {
    "collapsed": false
   }
  },
  {
   "cell_type": "code",
   "execution_count": 1,
   "outputs": [],
   "source": [
    "# results_df = pl.read_parquet(\"data/calgary.parquet.gzip\")"
   ],
   "metadata": {
    "collapsed": false
   }
  },
  {
   "cell_type": "code",
   "execution_count": 3,
   "outputs": [
    {
     "data": {
      "text/plain": "shape: (5, 22)\n┌─────────┬───────────┬──────────┬────────────┬───┬─────────┬────────────┬────────────┬────────────┐\n│ roll_ye ┆ roll_numb ┆ address  ┆ assessed_v ┆ … ┆ point   ┆ re_assesse ┆ nr_assesse ┆ fl_assesse │\n│ ar      ┆ er        ┆ ---      ┆ alue       ┆   ┆ ---     ┆ d_value    ┆ d_value    ┆ d_value    │\n│ ---     ┆ ---       ┆ str      ┆ ---        ┆   ┆ struct[ ┆ ---        ┆ ---        ┆ ---        │\n│ str     ┆ str       ┆          ┆ str        ┆   ┆ 2]      ┆ str        ┆ str        ┆ str        │\n╞═════════╪═══════════╪══════════╪════════════╪═══╪═════════╪════════════╪════════════╪════════════╡\n│ 2017    ┆ 070027800 ┆ 1930     ┆ 26180000   ┆ … ┆ {[-114. ┆ null       ┆ null       ┆ null       │\n│         ┆           ┆ MAYNARD  ┆            ┆   ┆ 009811, ┆            ┆            ┆            │\n│         ┆           ┆ RD SE    ┆            ┆   ┆ 51.0478 ┆            ┆            ┆            │\n│         ┆           ┆          ┆            ┆   ┆ 42],\"Po ┆            ┆            ┆            │\n│         ┆           ┆          ┆            ┆   ┆ int…    ┆            ┆            ┆            │\n│ 2020    ┆ 031019417 ┆ 3310 29  ┆ 11920000   ┆ … ┆ {[-113. ┆ null       ┆ null       ┆ null       │\n│         ┆           ┆ ST NE    ┆            ┆   ┆ 990964, ┆            ┆            ┆            │\n│         ┆           ┆          ┆            ┆   ┆ 51.0821 ┆            ┆            ┆            │\n│         ┆           ┆          ┆            ┆   ┆ 89],\"Po ┆            ┆            ┆            │\n│         ┆           ┆          ┆            ┆   ┆ int…    ┆            ┆            ┆            │\n│ 2020    ┆ 202651881 ┆ 540 16   ┆ 2640000    ┆ … ┆ {[-114. ┆ null       ┆ null       ┆ null       │\n│         ┆           ┆ AV NE    ┆            ┆   ┆ 051648, ┆            ┆            ┆            │\n│         ┆           ┆          ┆            ┆   ┆ 51.0674 ┆            ┆            ┆            │\n│         ┆           ┆          ┆            ┆   ┆ 64],\"Po ┆            ┆            ┆            │\n│         ┆           ┆          ┆            ┆   ┆ int…    ┆            ┆            ┆            │\n│ 2020    ┆ 202795316 ┆ 140 3730 ┆ 651000     ┆ … ┆ {[-113. ┆ null       ┆ null       ┆ null       │\n│         ┆           ┆ 104 AV   ┆            ┆   ┆ 980578, ┆            ┆            ┆            │\n│         ┆           ┆ NE       ┆            ┆   ┆ 51.1477 ┆            ┆            ┆            │\n│         ┆           ┆          ┆            ┆   ┆ 71],\"Po ┆            ┆            ┆            │\n│         ┆           ┆          ┆            ┆   ┆ int…    ┆            ┆            ┆            │\n│ 2021    ┆ 004028502 ┆ 47 SADDL ┆ 406500     ┆ … ┆ {[-113. ┆ 406500     ┆ null       ┆ null       │\n│         ┆           ┆ EBACK WY ┆            ┆   ┆ 949156, ┆            ┆            ┆            │\n│         ┆           ┆ NE       ┆            ┆   ┆ 51.1273 ┆            ┆            ┆            │\n│         ┆           ┆          ┆            ┆   ┆ 65],\"Po ┆            ┆            ┆            │\n│         ┆           ┆          ┆            ┆   ┆ int…    ┆            ┆            ┆            │\n└─────────┴───────────┴──────────┴────────────┴───┴─────────┴────────────┴────────────┴────────────┘",
      "text/html": "<div><style>\n.dataframe > thead > tr > th,\n.dataframe > tbody > tr > td {\n  text-align: right;\n}\n</style>\n<small>shape: (5, 22)</small><table border=\"1\" class=\"dataframe\"><thead><tr><th>roll_year</th><th>roll_number</th><th>address</th><th>assessed_value</th><th>assessment_class</th><th>assessment_class_description</th><th>comm_code</th><th>comm_name</th><th>latitude</th><th>longitude</th><th>unique_key</th><th>year_of_construction</th><th>land_use_designation</th><th>property_type</th><th>land_size_sm</th><th>land_size_sf</th><th>land_size_ac</th><th>sub_property_use</th><th>point</th><th>re_assessed_value</th><th>nr_assessed_value</th><th>fl_assessed_value</th></tr><tr><td>str</td><td>str</td><td>str</td><td>str</td><td>str</td><td>str</td><td>str</td><td>str</td><td>str</td><td>str</td><td>str</td><td>str</td><td>str</td><td>str</td><td>str</td><td>str</td><td>str</td><td>str</td><td>struct[2]</td><td>str</td><td>str</td><td>str</td></tr></thead><tbody><tr><td>&quot;2017&quot;</td><td>&quot;070027800&quot;</td><td>&quot;1930 MAYNARD R...</td><td>&quot;26180000&quot;</td><td>&quot;NR&quot;</td><td>&quot;Non-residentia...</td><td>&quot;MLI&quot;</td><td>&quot;MAYLAND&quot;</td><td>&quot;51.04784225611...</td><td>&quot;-114.009810650...</td><td>&quot;2017070027800&quot;</td><td>&quot;1965&quot;</td><td>&quot;I-G&quot;</td><td>&quot;LI&quot;</td><td>&quot;28350.8&quot;</td><td>&quot;305175&quot;</td><td>&quot;7.01&quot;</td><td>&quot;CS1835&quot;</td><td>{[-114.009811, 51.047842],&quot;Point&quot;}</td><td>null</td><td>null</td><td>null</td></tr><tr><td>&quot;2020&quot;</td><td>&quot;031019417&quot;</td><td>&quot;3310 29 ST NE&quot;</td><td>&quot;11920000&quot;</td><td>&quot;NR&quot;</td><td>&quot;Non-residentia...</td><td>&quot;HOR&quot;</td><td>&quot;HORIZON&quot;</td><td>&quot;51.08218932998...</td><td>&quot;-113.990963971...</td><td>&quot;2020031019417&quot;</td><td>&quot;1981&quot;</td><td>&quot;C-COR3&quot;</td><td>&quot;LI&quot;</td><td>&quot;12120&quot;</td><td>&quot;130463&quot;</td><td>&quot;3&quot;</td><td>&quot;CM0201&quot;</td><td>{[-113.990964, 51.082189],&quot;Point&quot;}</td><td>null</td><td>null</td><td>null</td></tr><tr><td>&quot;2020&quot;</td><td>&quot;202651881&quot;</td><td>&quot;540 16 AV NE&quot;</td><td>&quot;2640000&quot;</td><td>&quot;NR&quot;</td><td>&quot;Non-residentia...</td><td>&quot;WIN&quot;</td><td>&quot;WINSTON HEIGHT...</td><td>&quot;51.06746403746...</td><td>&quot;-114.051648006...</td><td>&quot;2020202651881&quot;</td><td>&quot;1960&quot;</td><td>&quot;C-COR1,C-COR2&quot;</td><td>&quot;LI&quot;</td><td>&quot;17100&quot;</td><td>&quot;184069&quot;</td><td>&quot;4.23&quot;</td><td>&quot;CM0201&quot;</td><td>{[-114.051648, 51.067464],&quot;Point&quot;}</td><td>null</td><td>null</td><td>null</td></tr><tr><td>&quot;2020&quot;</td><td>&quot;202795316&quot;</td><td>&quot;140 3730 104 A...</td><td>&quot;651000&quot;</td><td>&quot;NR&quot;</td><td>&quot;Non-residentia...</td><td>&quot;ST3&quot;</td><td>&quot;STONEY 3&quot;</td><td>&quot;51.14777081916...</td><td>&quot;-113.980577590...</td><td>&quot;2020202795316&quot;</td><td>null</td><td>null</td><td>&quot;LI&quot;</td><td>null</td><td>null</td><td>null</td><td>&quot;CM0610&quot;</td><td>{[-113.980578, 51.147771],&quot;Point&quot;}</td><td>null</td><td>null</td><td>null</td></tr><tr><td>&quot;2021&quot;</td><td>&quot;004028502&quot;</td><td>&quot;47 SADDLEBACK ...</td><td>&quot;406500&quot;</td><td>&quot;RE&quot;</td><td>&quot;Residential&quot;</td><td>&quot;SAD&quot;</td><td>&quot;SADDLE RIDGE&quot;</td><td>&quot;51.12736483370...</td><td>&quot;-113.949155960...</td><td>&quot;2021004028502&quot;</td><td>&quot;2000&quot;</td><td>&quot;R-1N&quot;</td><td>&quot;LI&quot;</td><td>&quot;353.9&quot;</td><td>&quot;3810&quot;</td><td>&quot;0.09&quot;</td><td>null</td><td>{[-113.949156, 51.127365],&quot;Point&quot;}</td><td>&quot;406500&quot;</td><td>null</td><td>null</td></tr></tbody></table></div>"
     },
     "execution_count": 3,
     "metadata": {},
     "output_type": "execute_result"
    }
   ],
   "source": [
    "results_df.head()"
   ],
   "metadata": {
    "collapsed": false
   }
  },
  {
   "cell_type": "code",
   "execution_count": 4,
   "outputs": [
    {
     "data": {
      "text/plain": "2000000"
     },
     "execution_count": 4,
     "metadata": {},
     "output_type": "execute_result"
    }
   ],
   "source": [
    "len(results_df)"
   ],
   "metadata": {
    "collapsed": false
   }
  },
  {
   "cell_type": "code",
   "execution_count": 4,
   "outputs": [],
   "source": [
    "from ydata_profiling import ProfileReport\n",
    "profile = ProfileReport(results_df, title=\"Pandas Profiling Report\")"
   ],
   "metadata": {
    "collapsed": false
   }
  },
  {
   "cell_type": "code",
   "execution_count": 5,
   "outputs": [
    {
     "data": {
      "text/plain": "Summarize dataset:   0%|          | 0/5 [00:00<?, ?it/s]",
      "application/vnd.jupyter.widget-view+json": {
       "version_major": 2,
       "version_minor": 0,
       "model_id": "7976c0ce33a04844a6f4b498ba4a2826"
      }
     },
     "metadata": {},
     "output_type": "display_data"
    },
    {
     "name": "stderr",
     "output_type": "stream",
     "text": [
      "/Users/sharyarmemon/anaconda3/envs/ece-720-project/lib/python3.9/site-packages/scipy/stats/_stats_py.py:112: RuntimeWarning: The input array could not be properly checked for nan values. nan values will be ignored.\n",
      "  warnings.warn(\"The input array could not be properly \"\n",
      "/Users/sharyarmemon/anaconda3/envs/ece-720-project/lib/python3.9/site-packages/scipy/stats/_stats_py.py:112: RuntimeWarning: The input array could not be properly checked for nan values. nan values will be ignored.\n",
      "  warnings.warn(\"The input array could not be properly \"\n",
      "/Users/sharyarmemon/anaconda3/envs/ece-720-project/lib/python3.9/site-packages/scipy/stats/_stats_py.py:112: RuntimeWarning: The input array could not be properly checked for nan values. nan values will be ignored.\n",
      "  warnings.warn(\"The input array could not be properly \"\n",
      "/Users/sharyarmemon/anaconda3/envs/ece-720-project/lib/python3.9/site-packages/scipy/stats/_stats_py.py:112: RuntimeWarning: The input array could not be properly checked for nan values. nan values will be ignored.\n",
      "  warnings.warn(\"The input array could not be properly \"\n",
      "/Users/sharyarmemon/anaconda3/envs/ece-720-project/lib/python3.9/site-packages/scipy/stats/_stats_py.py:112: RuntimeWarning: The input array could not be properly checked for nan values. nan values will be ignored.\n",
      "  warnings.warn(\"The input array could not be properly \"\n",
      "/Users/sharyarmemon/anaconda3/envs/ece-720-project/lib/python3.9/site-packages/scipy/stats/_stats_py.py:112: RuntimeWarning: The input array could not be properly checked for nan values. nan values will be ignored.\n",
      "  warnings.warn(\"The input array could not be properly \"\n",
      "/Users/sharyarmemon/anaconda3/envs/ece-720-project/lib/python3.9/site-packages/scipy/stats/_stats_py.py:112: RuntimeWarning: The input array could not be properly checked for nan values. nan values will be ignored.\n",
      "  warnings.warn(\"The input array could not be properly \"\n",
      "/Users/sharyarmemon/anaconda3/envs/ece-720-project/lib/python3.9/site-packages/scipy/stats/_stats_py.py:112: RuntimeWarning: The input array could not be properly checked for nan values. nan values will be ignored.\n",
      "  warnings.warn(\"The input array could not be properly \"\n",
      "/Users/sharyarmemon/anaconda3/envs/ece-720-project/lib/python3.9/site-packages/scipy/stats/_stats_py.py:112: RuntimeWarning: The input array could not be properly checked for nan values. nan values will be ignored.\n",
      "  warnings.warn(\"The input array could not be properly \"\n",
      "/Users/sharyarmemon/anaconda3/envs/ece-720-project/lib/python3.9/site-packages/scipy/stats/_stats_py.py:112: RuntimeWarning: The input array could not be properly checked for nan values. nan values will be ignored.\n",
      "  warnings.warn(\"The input array could not be properly \"\n"
     ]
    },
    {
     "data": {
      "text/plain": "Generate report structure:   0%|          | 0/1 [00:00<?, ?it/s]",
      "application/vnd.jupyter.widget-view+json": {
       "version_major": 2,
       "version_minor": 0,
       "model_id": "3accd61e806a43ae9bf3a5be36dff98a"
      }
     },
     "metadata": {},
     "output_type": "display_data"
    },
    {
     "data": {
      "text/plain": "Render HTML:   0%|          | 0/1 [00:00<?, ?it/s]",
      "application/vnd.jupyter.widget-view+json": {
       "version_major": 2,
       "version_minor": 0,
       "model_id": "95a41dcdb92f473787d323f5085cb17e"
      }
     },
     "metadata": {},
     "output_type": "display_data"
    },
    {
     "data": {
      "text/plain": "Export report to file:   0%|          | 0/1 [00:00<?, ?it/s]",
      "application/vnd.jupyter.widget-view+json": {
       "version_major": 2,
       "version_minor": 0,
       "model_id": "8e22adf8982b4d3fb89a2d8debf4c5d3"
      }
     },
     "metadata": {},
     "output_type": "display_data"
    }
   ],
   "source": [
    "profile.to_file('your_report.html')"
   ],
   "metadata": {
    "collapsed": false
   }
  },
  {
   "cell_type": "code",
   "execution_count": 6,
   "outputs": [
    {
     "name": "stdout",
     "output_type": "stream",
     "text": [
      "--2023-03-27 18:19:05--  http://archive.ics.uci.edu/ml/machine-learning-databases/adult/adult.data\r\n",
      "Resolving archive.ics.uci.edu (archive.ics.uci.edu)... 128.195.10.252\r\n",
      "Connecting to archive.ics.uci.edu (archive.ics.uci.edu)|128.195.10.252|:80... connected.\r\n",
      "HTTP request sent, awaiting response... 200 OK\r\n",
      "Length: 3974305 (3.8M) [application/x-httpd-php]\r\n",
      "Saving to: ‘data/adult.data’\r\n",
      "\r\n",
      "data/adult.data     100%[===================>]   3.79M  6.32MB/s    in 0.6s    \r\n",
      "\r\n",
      "2023-03-27 18:19:06 (6.32 MB/s) - ‘data/adult.data’ saved [3974305/3974305]\r\n",
      "\r\n",
      "--2023-03-27 18:19:06--  http://archive.ics.uci.edu/ml/machine-learning-databases/adult/adult.names\r\n",
      "Resolving archive.ics.uci.edu (archive.ics.uci.edu)... 128.195.10.252\r\n",
      "Connecting to archive.ics.uci.edu (archive.ics.uci.edu)|128.195.10.252|:80... connected.\r\n",
      "HTTP request sent, awaiting response... 200 OK\r\n",
      "Length: 5229 (5.1K) [application/x-httpd-php]\r\n",
      "Saving to: ‘data/adult.names’\r\n",
      "\r\n",
      "data/adult.names    100%[===================>]   5.11K  --.-KB/s    in 0.002s  \r\n",
      "\r\n",
      "2023-03-27 18:19:06 (3.04 MB/s) - ‘data/adult.names’ saved [5229/5229]\r\n",
      "\r\n",
      "--2023-03-27 18:19:06--  http://archive.ics.uci.edu/ml/machine-learning-databases/adult/adult.test\r\n",
      "Resolving archive.ics.uci.edu (archive.ics.uci.edu)... 128.195.10.252\r\n",
      "Connecting to archive.ics.uci.edu (archive.ics.uci.edu)|128.195.10.252|:80... connected.\r\n",
      "HTTP request sent, awaiting response... 200 OK\r\n",
      "Length: 2003153 (1.9M) [application/x-httpd-php]\r\n",
      "Saving to: ‘data/adult.test’\r\n",
      "\r\n",
      "data/adult.test     100%[===================>]   1.91M  3.49MB/s    in 0.5s    \r\n",
      "\r\n",
      "2023-03-27 18:19:07 (3.49 MB/s) - ‘data/adult.test’ saved [2003153/2003153]\r\n",
      "\r\n"
     ]
    }
   ],
   "source": [
    "! wget \"http://archive.ics.uci.edu/ml/machine-learning-databases/adult/adult.data\" -O data/adult.data\n",
    "! wget \"http://archive.ics.uci.edu/ml/machine-learning-databases/adult/adult.names\" -O data/adult.names\n",
    "! wget \"http://archive.ics.uci.edu/ml/machine-learning-databases/adult/adult.test\" -O data/adult.test"
   ],
   "metadata": {
    "collapsed": false
   }
  },
  {
   "cell_type": "code",
   "execution_count": null,
   "outputs": [],
   "source": [],
   "metadata": {
    "collapsed": false
   }
  }
 ],
 "metadata": {
  "kernelspec": {
   "display_name": "Python 3",
   "language": "python",
   "name": "python3"
  },
  "language_info": {
   "codemirror_mode": {
    "name": "ipython",
    "version": 2
   },
   "file_extension": ".py",
   "mimetype": "text/x-python",
   "name": "python",
   "nbconvert_exporter": "python",
   "pygments_lexer": "ipython2",
   "version": "2.7.6"
  }
 },
 "nbformat": 4,
 "nbformat_minor": 0
}
