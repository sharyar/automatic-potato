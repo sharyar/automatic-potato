{
 "cells": [
  {
   "cell_type": "code",
   "execution_count": 1,
   "metadata": {
    "ExecuteTime": {
     "end_time": "2023-04-02T15:28:27.212416Z",
     "start_time": "2023-04-02T15:28:27.159701Z"
    },
    "collapsed": true
   },
   "outputs": [],
   "source": [
    "import polars as pl\n",
    "from datetime import datetime\n",
    "from pathlib import Path\n",
    "import matplotlib.pyplot as plt\n",
    "\n",
    "DATA_CALGARY_PATH = Path(\"data/calgary_2017_2021.parquet\")\n",
    "SOCRATA_API = \"\""
   ]
  },
  {
   "cell_type": "code",
   "execution_count": 2,
   "metadata": {
    "ExecuteTime": {
     "end_time": "2023-04-02T15:28:27.570397Z",
     "start_time": "2023-04-02T15:28:27.214201Z"
    },
    "collapsed": false
   },
   "outputs": [],
   "source": [
    "def load_data_calgary() -> pl.DataFrame:\n",
    "    \"\"\"\n",
    "    Loads data from saved parquet if available, otherwise uses api key to query for that info via sodapy\n",
    "    :return:\n",
    "    \"\"\"\n",
    "    if not DATA_CALGARY_PATH.exists():\n",
    "        from sodapy import Socrata\n",
    "        client = Socrata(\"data.calgary.ca\", SOCRATA_API)\n",
    "        results = client.get(\"6zp6-pxei\",  limit=3_000_000)\n",
    "        results_df = pl.from_records(results, infer_schema_length=2000)\n",
    "        results_df = results_df.with_columns(pl.col(\"roll_year\").str.strptime(pl.Date, fmt='%Y').cast(pl.Datetime))\n",
    "        filtered_df = results_df.filter((pl.col(\"roll_year\").is_between(datetime(2017, 1, 1), datetime(2021,1,1))))\n",
    "        filtered_df.write_parquet(DATA_CALGARY_PATH)\n",
    "    else:\n",
    "        filtered_df = pl.read_parquet(DATA_CALGARY_PATH, )\n",
    "    return filtered_df\n",
    "\n",
    "calgary_df = load_data_calgary()"
   ]
  },
  {
   "cell_type": "code",
   "execution_count": 4,
   "metadata": {
    "ExecuteTime": {
     "end_time": "2023-04-02T15:32:41.107670Z",
     "start_time": "2023-04-02T15:32:41.104026Z"
    },
    "collapsed": false
   },
   "outputs": [
    {
     "name": "stdout",
     "output_type": "stream",
     "text": [
      "Filtered out 111350 non-residential properties\n",
      "Filtered out 1003 properties with no assessed value\n"
     ]
    }
   ],
   "source": [
    "# sample_df = calgary_df.sample(frac=0.3, seed=42)\n",
    "# print(len(sample_df))\n",
    "\n",
    "# Focus only on residential properties\n",
    "prior_len = len(calgary_df)\n",
    "calgary_df = calgary_df.filter(pl.col(\"assessment_class\") == \"RE\")\n",
    "latter_len = len(calgary_df)\n",
    "print(f\"Filtered out {prior_len - latter_len} non-residential properties\")\n",
    "\n",
    "prior_len = len(calgary_df)\n",
    "# Drop properties with no assessed value\n",
    "calgary_df = calgary_df.drop_nulls(\"re_assessed_value\")\n",
    "latter_len = len(calgary_df)\n",
    "print(f\"Filtered out {prior_len - latter_len} properties with no assessed value\")\n",
    "\n",
    "# Drop Roll Number and other columns as it carries no real value for our analysis\n",
    "column_drop_list = [\n",
    "    \"roll_number\",\n",
    "    \"sub_property_use\",\n",
    "    \"point\",\n",
    "    \"land_size_sf\",\n",
    "    \"land_size_ac\",\n",
    "    \"unique_key\",\n",
    "    \"comm_name\",\n",
    "    \"assessment_class_description\",\n",
    "    \"address\",\n",
    "    \"nr_assessed_value\",\n",
    "    \"re_assessed_value\",\n",
    "    \"land_use_designation\",\n",
    "    \"fl_assessed_value\"\n",
    "]\n",
    "\n",
    "calgary_df = calgary_df.drop(column_drop_list)"
   ]
  },
  {
   "cell_type": "code",
   "execution_count": 5,
   "metadata": {},
   "outputs": [
    {
     "name": "stdout",
     "output_type": "stream",
     "text": [
      "Left over columns in the dataset: ['roll_year', 'assessed_value', 'assessment_class', 'comm_code', 'latitude', 'longitude', 'year_of_construction', 'property_type', 'land_size_sm']\n",
      "Total number of rows in dataset: 2,320,076\n",
      "Total number of columns in dataset: 9\n"
     ]
    }
   ],
   "source": [
    "print(f\"Left over columns in the dataset: {calgary_df.columns}\")\n",
    "print(f\"Total number of rows in dataset: {len(calgary_df):,}\")\n",
    "print(f\"Total number of columns in dataset: {len(calgary_df.columns):,}\")"
   ]
  },
  {
   "cell_type": "code",
   "execution_count": 6,
   "metadata": {
    "ExecuteTime": {
     "end_time": "2023-04-02T15:33:07.506454Z",
     "start_time": "2023-04-02T15:33:07.502901Z"
    },
    "collapsed": false
   },
   "outputs": [
    {
     "name": "stdout",
     "output_type": "stream",
     "text": [
      "Filtered out 0 properties with no assessed value\n",
      "Filtered out 1,515,068 properties with na/null values in specified columns\n",
      "Left Over Rows: 805,008\n"
     ]
    }
   ],
   "source": [
    "# Drop any rows with null/na values for our variables of interest (y)\n",
    "prior_len = len(calgary_df)\n",
    "calgary_df = calgary_df.drop_nulls(\"assessed_value\")\n",
    "print(f\"Filtered out {prior_len - len(calgary_df)} properties with no assessed value\")\n",
    "\n",
    "# Drop any rows with null/na values for our variables on x side\n",
    "prior_len = len(calgary_df)\n",
    "col_list = [\"land_size_sm\", \"roll_year\", \"comm_code\", \"year_of_construction\", \"property_type\", \"assessment_class\", \"latitude\", \"longitude\"]\n",
    "calgary_df = calgary_df.drop_nulls(col_list)\n",
    "print(f\"Filtered out {prior_len - len(calgary_df):,} properties with na/null values in specified columns\\nLeft Over Rows: {len(calgary_df):,}\")"
   ]
  },
  {
   "cell_type": "code",
   "execution_count": 7,
   "metadata": {},
   "outputs": [],
   "source": [
    "# Cast columns to the correct types: \n",
    "calgary_df = calgary_df.with_columns(pl.col([\"assessed_value\", \"year_of_construction\"]).cast(pl.Int32))\n",
    "calgary_df = calgary_df.with_columns(pl.col(\"land_size_sm\").cast(pl.Float64))\n",
    "calgary_df = calgary_df.with_columns(pl.col([\"longitude\", \"latitude\"]).cast(pl.Float64))"
   ]
  },
  {
   "cell_type": "code",
   "execution_count": 8,
   "metadata": {},
   "outputs": [],
   "source": [
    "import mpu\n",
    "\n",
    "def cal_distance_from_center(lat, long):\n",
    "    lat_cal_center, long_cal_center = 51.047956, -114.068913\n",
    "    return mpu.haversine_distance((lat, long), (lat_cal_center, long_cal_center))\n",
    "    \n",
    "def quadrant(lat, long):\n",
    "    # Longitude increase as we go further north\n",
    "    # Latitude increase as we go further east\n",
    "    # Therefore, if lat is greater than lat_cal_center, we are in the north quadrant\n",
    "    # &, if long is greater than long_cal_center, we are in the east quadrant\n",
    "    lat_cal_center, long_cal_center = 51.047956, -114.068913\n",
    "    NS = \"N\" if lat > lat_cal_center else \"S\"\n",
    "    EW = \"E\" if long > long_cal_center else \"W\"\n",
    "    \n",
    "    return NS + EW\n"
   ]
  },
  {
   "cell_type": "code",
   "execution_count": 9,
   "metadata": {},
   "outputs": [],
   "source": [
    "# Feature engineer for latitude & longtitude -\n",
    "# Distance from the center of the city as a float value\n",
    "calgary_df = calgary_df.with_columns(\n",
    "    calgary_df.select(\n",
    "        pl.struct([\"latitude\", \"longitude\"]).apply(lambda x: cal_distance_from_center(x[\"latitude\"], x[\"longitude\"]), pl.Float64).alias(\"distance_from_center\")\n",
    "    )\n",
    ")\n",
    "\n",
    "# feature engineer (future) - > define quadrants (ne, nw, se, sw) for the city as an addtiional feature based on longitutde and latitude\n",
    "\n",
    "calgary_df = calgary_df.with_columns(\n",
    "    calgary_df.select(\n",
    "        pl.struct(\n",
    "            [\"latitude\", \"longitude\"]\n",
    "        ).apply(lambda x: quadrant(x[\"latitude\"], x[\"longitude\"]), pl.Utf8).alias(\"quadrant\")\n",
    "    )   \n",
    ")"
   ]
  },
  {
   "cell_type": "code",
   "execution_count": 10,
   "metadata": {},
   "outputs": [
    {
     "data": {
      "text/html": [
       "<div><style>\n",
       ".dataframe > thead > tr > th,\n",
       ".dataframe > tbody > tr > td {\n",
       "  text-align: right;\n",
       "}\n",
       "</style>\n",
       "<small>shape: (5, 11)</small><table border=\"1\" class=\"dataframe\"><thead><tr><th>roll_year</th><th>assessed_value</th><th>assessment_class</th><th>comm_code</th><th>latitude</th><th>longitude</th><th>year_of_construction</th><th>property_type</th><th>land_size_sm</th><th>distance_from_center</th><th>quadrant</th></tr><tr><td>datetime[μs]</td><td>i32</td><td>str</td><td>str</td><td>f64</td><td>f64</td><td>i32</td><td>str</td><td>f64</td><td>f64</td><td>str</td></tr></thead><tbody><tr><td>2021-01-01 00:00:00</td><td>406500</td><td>&quot;RE&quot;</td><td>&quot;SAD&quot;</td><td>51.127365</td><td>-113.949156</td><td>2000</td><td>&quot;LI&quot;</td><td>353.9</td><td>12.162644</td><td>&quot;NE&quot;</td></tr><tr><td>2021-01-01 00:00:00</td><td>1080000</td><td>&quot;RE&quot;</td><td>&quot;EDG&quot;</td><td>51.118489</td><td>-114.14213</td><td>1985</td><td>&quot;LI&quot;</td><td>930.2</td><td>9.363092</td><td>&quot;NW&quot;</td></tr><tr><td>2021-01-01 00:00:00</td><td>670000</td><td>&quot;RE&quot;</td><td>&quot;SIL&quot;</td><td>51.114289</td><td>-114.198913</td><td>1988</td><td>&quot;LI&quot;</td><td>827.8</td><td>11.699148</td><td>&quot;NW&quot;</td></tr><tr><td>2021-01-01 00:00:00</td><td>640000</td><td>&quot;RE&quot;</td><td>&quot;VAR&quot;</td><td>51.098566</td><td>-114.159969</td><td>1966</td><td>&quot;LI&quot;</td><td>612.5</td><td>8.493606</td><td>&quot;NW&quot;</td></tr><tr><td>2021-01-01 00:00:00</td><td>465000</td><td>&quot;RE&quot;</td><td>&quot;THO&quot;</td><td>51.109854</td><td>-114.076038</td><td>1975</td><td>&quot;LI&quot;</td><td>531.0</td><td>6.900713</td><td>&quot;NW&quot;</td></tr></tbody></table></div>"
      ],
      "text/plain": [
       "shape: (5, 11)\n",
       "┌──────┬────────────┬────────────┬───────────┬───┬────────────┬────────────┬────────────┬──────────┐\n",
       "│ roll ┆ assessed_v ┆ assessment ┆ comm_code ┆ … ┆ property_t ┆ land_size_ ┆ distance_f ┆ quadrant │\n",
       "│ _yea ┆ alue       ┆ _class     ┆ ---       ┆   ┆ ype        ┆ sm         ┆ rom_center ┆ ---      │\n",
       "│ r    ┆ ---        ┆ ---        ┆ str       ┆   ┆ ---        ┆ ---        ┆ ---        ┆ str      │\n",
       "│ ---  ┆ i32        ┆ str        ┆           ┆   ┆ str        ┆ f64        ┆ f64        ┆          │\n",
       "│ date ┆            ┆            ┆           ┆   ┆            ┆            ┆            ┆          │\n",
       "│ time ┆            ┆            ┆           ┆   ┆            ┆            ┆            ┆          │\n",
       "│ [μs] ┆            ┆            ┆           ┆   ┆            ┆            ┆            ┆          │\n",
       "╞══════╪════════════╪════════════╪═══════════╪═══╪════════════╪════════════╪════════════╪══════════╡\n",
       "│ 2021 ┆ 406500     ┆ RE         ┆ SAD       ┆ … ┆ LI         ┆ 353.9      ┆ 12.162644  ┆ NE       │\n",
       "│ -01- ┆            ┆            ┆           ┆   ┆            ┆            ┆            ┆          │\n",
       "│ 01   ┆            ┆            ┆           ┆   ┆            ┆            ┆            ┆          │\n",
       "│ 00:0 ┆            ┆            ┆           ┆   ┆            ┆            ┆            ┆          │\n",
       "│ 0:00 ┆            ┆            ┆           ┆   ┆            ┆            ┆            ┆          │\n",
       "│ 2021 ┆ 1080000    ┆ RE         ┆ EDG       ┆ … ┆ LI         ┆ 930.2      ┆ 9.363092   ┆ NW       │\n",
       "│ -01- ┆            ┆            ┆           ┆   ┆            ┆            ┆            ┆          │\n",
       "│ 01   ┆            ┆            ┆           ┆   ┆            ┆            ┆            ┆          │\n",
       "│ 00:0 ┆            ┆            ┆           ┆   ┆            ┆            ┆            ┆          │\n",
       "│ 0:00 ┆            ┆            ┆           ┆   ┆            ┆            ┆            ┆          │\n",
       "│ 2021 ┆ 670000     ┆ RE         ┆ SIL       ┆ … ┆ LI         ┆ 827.8      ┆ 11.699148  ┆ NW       │\n",
       "│ -01- ┆            ┆            ┆           ┆   ┆            ┆            ┆            ┆          │\n",
       "│ 01   ┆            ┆            ┆           ┆   ┆            ┆            ┆            ┆          │\n",
       "│ 00:0 ┆            ┆            ┆           ┆   ┆            ┆            ┆            ┆          │\n",
       "│ 0:00 ┆            ┆            ┆           ┆   ┆            ┆            ┆            ┆          │\n",
       "│ 2021 ┆ 640000     ┆ RE         ┆ VAR       ┆ … ┆ LI         ┆ 612.5      ┆ 8.493606   ┆ NW       │\n",
       "│ -01- ┆            ┆            ┆           ┆   ┆            ┆            ┆            ┆          │\n",
       "│ 01   ┆            ┆            ┆           ┆   ┆            ┆            ┆            ┆          │\n",
       "│ 00:0 ┆            ┆            ┆           ┆   ┆            ┆            ┆            ┆          │\n",
       "│ 0:00 ┆            ┆            ┆           ┆   ┆            ┆            ┆            ┆          │\n",
       "│ 2021 ┆ 465000     ┆ RE         ┆ THO       ┆ … ┆ LI         ┆ 531.0      ┆ 6.900713   ┆ NW       │\n",
       "│ -01- ┆            ┆            ┆           ┆   ┆            ┆            ┆            ┆          │\n",
       "│ 01   ┆            ┆            ┆           ┆   ┆            ┆            ┆            ┆          │\n",
       "│ 00:0 ┆            ┆            ┆           ┆   ┆            ┆            ┆            ┆          │\n",
       "│ 0:00 ┆            ┆            ┆           ┆   ┆            ┆            ┆            ┆          │\n",
       "└──────┴────────────┴────────────┴───────────┴───┴────────────┴────────────┴────────────┴──────────┘"
      ]
     },
     "execution_count": 10,
     "metadata": {},
     "output_type": "execute_result"
    }
   ],
   "source": [
    "calgary_df.head()"
   ]
  },
  {
   "cell_type": "code",
   "execution_count": 11,
   "metadata": {},
   "outputs": [
    {
     "name": "stdout",
     "output_type": "stream",
     "text": [
      "shape: (1, 2)\n",
      "┌──────────────────────────────┬───────────────────────────────┐\n",
      "│ Property Type Count (Unique) ┆ Community Code Count (Unique) │\n",
      "│ ---                          ┆ ---                           │\n",
      "│ u32                          ┆ u32                           │\n",
      "╞══════════════════════════════╪═══════════════════════════════╡\n",
      "│ 2                            ┆ 251                           │\n",
      "└──────────────────────────────┴───────────────────────────────┘\n"
     ]
    }
   ],
   "source": [
    "out = calgary_df.select(\n",
    "    [\n",
    "        pl.col(\"property_type\").n_unique().alias(\"Property Type Count (Unique)\"),\n",
    "        pl.col(\"comm_code\").n_unique().alias(\"Community Code Count (Unique)\"),\n",
    "    ]\n",
    ")\n",
    "print(out.head())\n"
   ]
  },
  {
   "cell_type": "code",
   "execution_count": 12,
   "metadata": {},
   "outputs": [
    {
     "name": "stdout",
     "output_type": "stream",
     "text": [
      "shape: (251, 2)\n",
      "┌───────────┬───────┐\n",
      "│ comm_code ┆ Count │\n",
      "│ ---       ┆ ---   │\n",
      "│ str       ┆ u32   │\n",
      "╞═══════════╪═══════╡\n",
      "│ BLN       ┆ 25738 │\n",
      "│ EVE       ┆ 13718 │\n",
      "│ SIG       ┆ 12152 │\n",
      "│ PAN       ┆ 12118 │\n",
      "│ …         ┆ …     │\n",
      "│ 13E       ┆ 1     │\n",
      "│ 13J       ┆ 1     │\n",
      "│ 12I       ┆ 1     │\n",
      "│ 01C       ┆ 1     │\n",
      "└───────────┴───────┘\n"
     ]
    },
    {
     "data": {
      "image/png": "[encoded data removed]",
      "text/plain": [
       "<Figure size 2000x1000 with 1 Axes>"
      ]
     },
     "metadata": {},
     "output_type": "display_data"
    }
   ],
   "source": [
    "comm_codes_counts = calgary_df.groupby(\"comm_code\").agg(\n",
    "    [\n",
    "        pl.count().alias(\"Count\"),\n",
    "    ]\n",
    ").sort(\"Count\", descending=True)\n",
    "plt.figure(figsize=(20, 10))\n",
    "plt.bar(\n",
    "    x = comm_codes_counts[\"comm_code\"].to_numpy(),\n",
    "    height=comm_codes_counts[\"Count\"].to_numpy()\n",
    ")\n",
    "print(comm_codes_counts)"
   ]
  },
  {
   "cell_type": "code",
   "execution_count": 13,
   "metadata": {},
   "outputs": [],
   "source": [
    "# Based on the above graph, we will set the threshold to 5000 and see how many communities we can retain in our analysis\n",
    "def map_community(comm_code):\n",
    "    if comm_code in comm_codes_counts.filter(pl.col(\"Count\") > 5000)[\"comm_code\"].to_list():\n",
    "        return comm_code\n",
    "    else:\n",
    "        return \"Other\""
   ]
  },
  {
   "cell_type": "code",
   "execution_count": 14,
   "metadata": {},
   "outputs": [],
   "source": [
    "calgary_df = calgary_df.with_columns(\n",
    "    calgary_df.select(\n",
    "        pl.struct(\n",
    "            [\"comm_code\"]\n",
    "        ).apply(lambda x: map_community(x[\"comm_code\"]), pl.Utf8).alias(\"comm_code\")\n",
    "    )   \n",
    ")"
   ]
  },
  {
   "cell_type": "code",
   "execution_count": 15,
   "metadata": {},
   "outputs": [
    {
     "name": "stdout",
     "output_type": "stream",
     "text": [
      "shape: (63, 2)\n",
      "┌───────────┬────────┐\n",
      "│ comm_code ┆ Count  │\n",
      "│ ---       ┆ ---    │\n",
      "│ str       ┆ u32    │\n",
      "╞═══════════╪════════╡\n",
      "│ Other     ┆ 340952 │\n",
      "│ BLN       ┆ 25738  │\n",
      "│ EVE       ┆ 13718  │\n",
      "│ SIG       ┆ 12152  │\n",
      "│ …         ┆ …      │\n",
      "│ MIS       ┆ 5416   │\n",
      "│ NEB       ┆ 5184   │\n",
      "│ MRL       ┆ 5147   │\n",
      "│ EAU       ┆ 5091   │\n",
      "└───────────┴────────┘\n"
     ]
    }
   ],
   "source": [
    "counts_comm = calgary_df.groupby(\"comm_code\").agg(pl.count().alias(\"Count\")).sort(\"Count\", descending=True)\n",
    "print(counts_comm)\n",
    "# So noew we are left with 63 communities, which is a good number to work with for our analysis"
   ]
  },
  {
   "cell_type": "code",
   "execution_count": 16,
   "metadata": {},
   "outputs": [
    {
     "data": {
      "text/html": [
       "<div><style>\n",
       ".dataframe > thead > tr > th,\n",
       ".dataframe > tbody > tr > td {\n",
       "  text-align: right;\n",
       "}\n",
       "</style>\n",
       "<small>shape: (1, 2)</small><table border=\"1\" class=\"dataframe\"><thead><tr><th>assessment_class</th><th>Count</th></tr><tr><td>str</td><td>u32</td></tr></thead><tbody><tr><td>&quot;RE&quot;</td><td>805008</td></tr></tbody></table></div>"
      ],
      "text/plain": [
       "shape: (1, 2)\n",
       "┌──────────────────┬────────┐\n",
       "│ assessment_class ┆ Count  │\n",
       "│ ---              ┆ ---    │\n",
       "│ str              ┆ u32    │\n",
       "╞══════════════════╪════════╡\n",
       "│ RE               ┆ 805008 │\n",
       "└──────────────────┴────────┘"
      ]
     },
     "execution_count": 16,
     "metadata": {},
     "output_type": "execute_result"
    }
   ],
   "source": [
    "calgary_df.groupby(\"assessment_class\").agg(pl.count().alias(\"Count\")).sort(\"Count\", descending=True)"
   ]
  },
  {
   "cell_type": "code",
   "execution_count": 17,
   "metadata": {},
   "outputs": [],
   "source": [
    "# Lets drop the assessment_class variable as it has only one value \n",
    "calgary_df = calgary_df.drop(\"assessment_class\")"
   ]
  },
  {
   "cell_type": "code",
   "execution_count": 18,
   "metadata": {},
   "outputs": [
    {
     "data": {
      "text/html": [
       "<div><style>\n",
       ".dataframe > thead > tr > th,\n",
       ".dataframe > tbody > tr > td {\n",
       "  text-align: right;\n",
       "}\n",
       "</style>\n",
       "<small>shape: (2, 2)</small><table border=\"1\" class=\"dataframe\"><thead><tr><th>property_type</th><th>Count</th></tr><tr><td>str</td><td>u32</td></tr></thead><tbody><tr><td>&quot;LI&quot;</td><td>804988</td></tr><tr><td>&quot;LO&quot;</td><td>20</td></tr></tbody></table></div>"
      ],
      "text/plain": [
       "shape: (2, 2)\n",
       "┌───────────────┬────────┐\n",
       "│ property_type ┆ Count  │\n",
       "│ ---           ┆ ---    │\n",
       "│ str           ┆ u32    │\n",
       "╞═══════════════╪════════╡\n",
       "│ LI            ┆ 804988 │\n",
       "│ LO            ┆ 20     │\n",
       "└───────────────┴────────┘"
      ]
     },
     "execution_count": 18,
     "metadata": {},
     "output_type": "execute_result"
    }
   ],
   "source": [
    "calgary_df.groupby(\"property_type\").agg(pl.count().alias(\"Count\")).sort(\"Count\", descending=True)"
   ]
  },
  {
   "cell_type": "code",
   "execution_count": 19,
   "metadata": {},
   "outputs": [],
   "source": [
    "# As we can see, there are only 20 proepties with the LO type property_type,  as such, we can drop those tags as well.\n",
    "calgary_df = calgary_df.filter(pl.col(\"property_type\") != \"LO\")\n",
    "calgary_df = calgary_df.drop(\"property_type\")"
   ]
  },
  {
   "cell_type": "code",
   "execution_count": 20,
   "metadata": {},
   "outputs": [
    {
     "data": {
      "text/html": [
       "<div><style>\n",
       ".dataframe > thead > tr > th,\n",
       ".dataframe > tbody > tr > td {\n",
       "  text-align: right;\n",
       "}\n",
       "</style>\n",
       "<small>shape: (804988, 9)</small><table border=\"1\" class=\"dataframe\"><thead><tr><th>roll_year</th><th>assessed_value</th><th>comm_code</th><th>latitude</th><th>longitude</th><th>year_of_construction</th><th>land_size_sm</th><th>distance_from_center</th><th>quadrant</th></tr><tr><td>datetime[μs]</td><td>i32</td><td>str</td><td>f64</td><td>f64</td><td>i32</td><td>f64</td><td>f64</td><td>str</td></tr></thead><tbody><tr><td>2021-01-01 00:00:00</td><td>406500</td><td>&quot;SAD&quot;</td><td>51.127365</td><td>-113.949156</td><td>2000</td><td>353.9</td><td>12.162644</td><td>&quot;NE&quot;</td></tr><tr><td>2021-01-01 00:00:00</td><td>1080000</td><td>&quot;EDG&quot;</td><td>51.118489</td><td>-114.14213</td><td>1985</td><td>930.2</td><td>9.363092</td><td>&quot;NW&quot;</td></tr><tr><td>2021-01-01 00:00:00</td><td>670000</td><td>&quot;SIL&quot;</td><td>51.114289</td><td>-114.198913</td><td>1988</td><td>827.8</td><td>11.699148</td><td>&quot;NW&quot;</td></tr><tr><td>2021-01-01 00:00:00</td><td>640000</td><td>&quot;VAR&quot;</td><td>51.098566</td><td>-114.159969</td><td>1966</td><td>612.5</td><td>8.493606</td><td>&quot;NW&quot;</td></tr><tr><td>2021-01-01 00:00:00</td><td>465000</td><td>&quot;THO&quot;</td><td>51.109854</td><td>-114.076038</td><td>1975</td><td>531.0</td><td>6.900713</td><td>&quot;NW&quot;</td></tr><tr><td>2021-01-01 00:00:00</td><td>303500</td><td>&quot;Other&quot;</td><td>51.108405</td><td>-113.954929</td><td>1981</td><td>278.5</td><td>10.420515</td><td>&quot;NE&quot;</td></tr><tr><td>2021-01-01 00:00:00</td><td>595000</td><td>&quot;Other&quot;</td><td>51.093539</td><td>-114.12116</td><td>1964</td><td>690.1</td><td>6.246328</td><td>&quot;NW&quot;</td></tr><tr><td>2021-01-01 00:00:00</td><td>650000</td><td>&quot;VAR&quot;</td><td>51.088546</td><td>-114.14943</td><td>1968</td><td>668.3</td><td>7.212713</td><td>&quot;NW&quot;</td></tr><tr><td>2021-01-01 00:00:00</td><td>174000</td><td>&quot;VAR&quot;</td><td>51.086176</td><td>-114.159663</td><td>1978</td><td>10451.3</td><td>7.633614</td><td>&quot;NW&quot;</td></tr><tr><td>2021-01-01 00:00:00</td><td>1150000</td><td>&quot;BOW&quot;</td><td>51.090115</td><td>-114.197469</td><td>1972</td><td>1045.3</td><td>10.132273</td><td>&quot;NW&quot;</td></tr><tr><td>2021-01-01 00:00:00</td><td>1060000</td><td>&quot;Other&quot;</td><td>51.068791</td><td>-114.154872</td><td>2015</td><td>557.1</td><td>6.43882</td><td>&quot;NW&quot;</td></tr><tr><td>2021-01-01 00:00:00</td><td>187500</td><td>&quot;Other&quot;</td><td>51.07214</td><td>-114.136242</td><td>2020</td><td>653.6</td><td>5.419572</td><td>&quot;NW&quot;</td></tr><tr><td>&hellip;</td><td>&hellip;</td><td>&hellip;</td><td>&hellip;</td><td>&hellip;</td><td>&hellip;</td><td>&hellip;</td><td>&hellip;</td><td>&hellip;</td></tr><tr><td>2021-01-01 00:00:00</td><td>475000</td><td>&quot;ROY&quot;</td><td>51.152691</td><td>-114.224809</td><td>2006</td><td>463.0</td><td>15.941291</td><td>&quot;NW&quot;</td></tr><tr><td>2021-01-01 00:00:00</td><td>492500</td><td>&quot;ROY&quot;</td><td>51.152758</td><td>-114.224956</td><td>2006</td><td>525.9</td><td>15.953741</td><td>&quot;NW&quot;</td></tr><tr><td>2021-01-01 00:00:00</td><td>482500</td><td>&quot;ROY&quot;</td><td>51.15288</td><td>-114.224717</td><td>2006</td><td>513.1</td><td>15.95221</td><td>&quot;NW&quot;</td></tr><tr><td>2021-01-01 00:00:00</td><td>516000</td><td>&quot;ROY&quot;</td><td>51.153009</td><td>-114.224741</td><td>2006</td><td>409.2</td><td>15.963887</td><td>&quot;NW&quot;</td></tr><tr><td>2021-01-01 00:00:00</td><td>478500</td><td>&quot;ROY&quot;</td><td>51.15311</td><td>-114.22472</td><td>2006</td><td>405.4</td><td>15.971071</td><td>&quot;NW&quot;</td></tr><tr><td>2021-01-01 00:00:00</td><td>499000</td><td>&quot;ROY&quot;</td><td>51.153211</td><td>-114.224701</td><td>2006</td><td>405.9</td><td>15.97839</td><td>&quot;NW&quot;</td></tr><tr><td>2021-01-01 00:00:00</td><td>506500</td><td>&quot;ROY&quot;</td><td>51.153312</td><td>-114.224685</td><td>2006</td><td>410.6</td><td>15.985847</td><td>&quot;NW&quot;</td></tr><tr><td>2021-01-01 00:00:00</td><td>488000</td><td>&quot;ROY&quot;</td><td>51.153415</td><td>-114.224672</td><td>2006</td><td>450.6</td><td>15.993617</td><td>&quot;NW&quot;</td></tr><tr><td>2021-01-01 00:00:00</td><td>455000</td><td>&quot;ROY&quot;</td><td>51.153626</td><td>-114.224842</td><td>2006</td><td>429.0</td><td>16.018914</td><td>&quot;NW&quot;</td></tr><tr><td>2021-01-01 00:00:00</td><td>418500</td><td>&quot;ROY&quot;</td><td>51.153626</td><td>-114.224676</td><td>2006</td><td>353.6</td><td>16.011002</td><td>&quot;NW&quot;</td></tr><tr><td>2021-01-01 00:00:00</td><td>449000</td><td>&quot;ROY&quot;</td><td>51.153626</td><td>-114.224523</td><td>2006</td><td>374.0</td><td>16.003743</td><td>&quot;NW&quot;</td></tr><tr><td>2021-01-01 00:00:00</td><td>449500</td><td>&quot;ROY&quot;</td><td>51.153626</td><td>-114.22437</td><td>2006</td><td>353.6</td><td>15.996487</td><td>&quot;NW&quot;</td></tr></tbody></table></div>"
      ],
      "text/plain": [
       "shape: (804988, 9)\n",
       "┌───────┬────────────┬───────────┬───────────┬───┬────────────┬────────────┬────────────┬──────────┐\n",
       "│ roll_ ┆ assessed_v ┆ comm_code ┆ latitude  ┆ … ┆ year_of_co ┆ land_size_ ┆ distance_f ┆ quadrant │\n",
       "│ year  ┆ alue       ┆ ---       ┆ ---       ┆   ┆ nstruction ┆ sm         ┆ rom_center ┆ ---      │\n",
       "│ ---   ┆ ---        ┆ str       ┆ f64       ┆   ┆ ---        ┆ ---        ┆ ---        ┆ str      │\n",
       "│ datet ┆ i32        ┆           ┆           ┆   ┆ i32        ┆ f64        ┆ f64        ┆          │\n",
       "│ ime[μ ┆            ┆           ┆           ┆   ┆            ┆            ┆            ┆          │\n",
       "│ s]    ┆            ┆           ┆           ┆   ┆            ┆            ┆            ┆          │\n",
       "╞═══════╪════════════╪═══════════╪═══════════╪═══╪════════════╪════════════╪════════════╪══════════╡\n",
       "│ 2021- ┆ 406500     ┆ SAD       ┆ 51.127365 ┆ … ┆ 2000       ┆ 353.9      ┆ 12.162644  ┆ NE       │\n",
       "│ 01-01 ┆            ┆           ┆           ┆   ┆            ┆            ┆            ┆          │\n",
       "│ 00:00 ┆            ┆           ┆           ┆   ┆            ┆            ┆            ┆          │\n",
       "│ :00   ┆            ┆           ┆           ┆   ┆            ┆            ┆            ┆          │\n",
       "│ 2021- ┆ 1080000    ┆ EDG       ┆ 51.118489 ┆ … ┆ 1985       ┆ 930.2      ┆ 9.363092   ┆ NW       │\n",
       "│ 01-01 ┆            ┆           ┆           ┆   ┆            ┆            ┆            ┆          │\n",
       "│ 00:00 ┆            ┆           ┆           ┆   ┆            ┆            ┆            ┆          │\n",
       "│ :00   ┆            ┆           ┆           ┆   ┆            ┆            ┆            ┆          │\n",
       "│ 2021- ┆ 670000     ┆ SIL       ┆ 51.114289 ┆ … ┆ 1988       ┆ 827.8      ┆ 11.699148  ┆ NW       │\n",
       "│ 01-01 ┆            ┆           ┆           ┆   ┆            ┆            ┆            ┆          │\n",
       "│ 00:00 ┆            ┆           ┆           ┆   ┆            ┆            ┆            ┆          │\n",
       "│ :00   ┆            ┆           ┆           ┆   ┆            ┆            ┆            ┆          │\n",
       "│ 2021- ┆ 640000     ┆ VAR       ┆ 51.098566 ┆ … ┆ 1966       ┆ 612.5      ┆ 8.493606   ┆ NW       │\n",
       "│ 01-01 ┆            ┆           ┆           ┆   ┆            ┆            ┆            ┆          │\n",
       "│ 00:00 ┆            ┆           ┆           ┆   ┆            ┆            ┆            ┆          │\n",
       "│ :00   ┆            ┆           ┆           ┆   ┆            ┆            ┆            ┆          │\n",
       "│ …     ┆ …          ┆ …         ┆ …         ┆ … ┆ …          ┆ …          ┆ …          ┆ …        │\n",
       "│ 2021- ┆ 455000     ┆ ROY       ┆ 51.153626 ┆ … ┆ 2006       ┆ 429.0      ┆ 16.018914  ┆ NW       │\n",
       "│ 01-01 ┆            ┆           ┆           ┆   ┆            ┆            ┆            ┆          │\n",
       "│ 00:00 ┆            ┆           ┆           ┆   ┆            ┆            ┆            ┆          │\n",
       "│ :00   ┆            ┆           ┆           ┆   ┆            ┆            ┆            ┆          │\n",
       "│ 2021- ┆ 418500     ┆ ROY       ┆ 51.153626 ┆ … ┆ 2006       ┆ 353.6      ┆ 16.011002  ┆ NW       │\n",
       "│ 01-01 ┆            ┆           ┆           ┆   ┆            ┆            ┆            ┆          │\n",
       "│ 00:00 ┆            ┆           ┆           ┆   ┆            ┆            ┆            ┆          │\n",
       "│ :00   ┆            ┆           ┆           ┆   ┆            ┆            ┆            ┆          │\n",
       "│ 2021- ┆ 449000     ┆ ROY       ┆ 51.153626 ┆ … ┆ 2006       ┆ 374.0      ┆ 16.003743  ┆ NW       │\n",
       "│ 01-01 ┆            ┆           ┆           ┆   ┆            ┆            ┆            ┆          │\n",
       "│ 00:00 ┆            ┆           ┆           ┆   ┆            ┆            ┆            ┆          │\n",
       "│ :00   ┆            ┆           ┆           ┆   ┆            ┆            ┆            ┆          │\n",
       "│ 2021- ┆ 449500     ┆ ROY       ┆ 51.153626 ┆ … ┆ 2006       ┆ 353.6      ┆ 15.996487  ┆ NW       │\n",
       "│ 01-01 ┆            ┆           ┆           ┆   ┆            ┆            ┆            ┆          │\n",
       "│ 00:00 ┆            ┆           ┆           ┆   ┆            ┆            ┆            ┆          │\n",
       "│ :00   ┆            ┆           ┆           ┆   ┆            ┆            ┆            ┆          │\n",
       "└───────┴────────────┴───────────┴───────────┴───┴────────────┴────────────┴────────────┴──────────┘"
      ]
     },
     "execution_count": 20,
     "metadata": {},
     "output_type": "execute_result"
    }
   ],
   "source": [
    "calgary_df"
   ]
  },
  {
   "cell_type": "code",
   "execution_count": 21,
   "metadata": {
    "collapsed": false
   },
   "outputs": [],
   "source": [
    "import numpy as np\n",
    "from sklearn import metrics\n",
    "from sklearn.model_selection import train_test_split\n",
    "from sklearn.ensemble import RandomForestRegressor, GradientBoostingRegressor\n",
    "from sklearn.pipeline import Pipeline\n",
    "from sklearn.decomposition import PCA\n",
    "from sklearn.preprocessing import StandardScaler, MinMaxScaler, OneHotEncoder, OrdinalEncoder\n",
    "from sklearn.compose import ColumnTransformer, TransformedTargetRegressor\n",
    "from sklearn.model_selection import cross_val_score, cross_val_predict"
   ]
  },
  {
   "cell_type": "code",
   "execution_count": 22,
   "metadata": {},
   "outputs": [],
   "source": [
    "# lets build our pre-processing pipeline! \n",
    "calgary_df = calgary_df.with_columns(pl.col(\"roll_year\").dt.year().alias(\"roll_year\"))\n",
    "# sample to reduce the training load on our puny computer\n",
    "calgary_df = calgary_df.sample(frac=0.3, with_replacement=False, seed=42)\n",
    "y = calgary_df[\"assessed_value\"].to_pandas()\n",
    "X = calgary_df.drop(\"assessed_value\").to_pandas()"
   ]
  },
  {
   "cell_type": "code",
   "execution_count": 23,
   "metadata": {},
   "outputs": [
    {
     "data": {
      "text/plain": [
       "roll_year                 int32\n",
       "comm_code                object\n",
       "latitude                float64\n",
       "longitude               float64\n",
       "year_of_construction      int32\n",
       "land_size_sm            float64\n",
       "distance_from_center    float64\n",
       "quadrant                 object\n",
       "dtype: object"
      ]
     },
     "execution_count": 23,
     "metadata": {},
     "output_type": "execute_result"
    }
   ],
   "source": [
    "X.dtypes"
   ]
  },
  {
   "cell_type": "code",
   "execution_count": 51,
   "metadata": {},
   "outputs": [
    {
     "data": {
      "text/plain": [
       "array([ -676926.59101683,  -483130.25756371, -1022794.93979615,\n",
       "        -517590.35542385, -1021379.27402958])"
      ]
     },
     "execution_count": 51,
     "metadata": {},
     "output_type": "execute_result"
    }
   ],
   "source": [
    "ct = ColumnTransformer(\n",
    "    [\n",
    "        (\"one_hot_commc_code\", OneHotEncoder(), [\"comm_code\"]),\n",
    "        (\"one_hot_quadrant\", OneHotEncoder(), [\"quadrant\"]),\n",
    "        (\"std_scaler_land_size\", StandardScaler(), [\"land_size_sm\"]),\n",
    "        (\"std_scaler_distance_from_center\", StandardScaler(), [\"distance_from_center\"]),\n",
    "    ],\n",
    "    remainder=\"passthrough\",\n",
    ")\n",
    "\n",
    "rgr = Pipeline(\n",
    "    steps=[(\"preprocessor\", ct), (\"regressor\", RandomForestRegressor(random_state=42))]\n",
    ")\n",
    "\n",
    "# X_train, X_test, y_train, y_test = train_test_split(X, y, test_size=0.2, random_state=42)\n",
    "\n",
    "# rgr.fit(X_train, y_train)\n",
    "# rgr.score(X_test, y_test)\n",
    "\n",
    "cross_val_score(rgr, X, y, cv=5, scoring=\"neg_root_mean_squared_error\")"
   ]
  },
  {
   "cell_type": "code",
   "execution_count": 25,
   "metadata": {},
   "outputs": [
    {
     "data": {
      "text/plain": [
       "array([ -664961.05656123,  -524356.0212269 , -1119354.50505842,\n",
       "        -619957.42863975, -1117653.75966299])"
      ]
     },
     "execution_count": 25,
     "metadata": {},
     "output_type": "execute_result"
    }
   ],
   "source": [
    "ct = ColumnTransformer(\n",
    "    [\n",
    "        (\"one_hot_commc_code\", OneHotEncoder(), [\"comm_code\"]),\n",
    "        (\"one_hot_quadrant\", OneHotEncoder(), [\"quadrant\"]),\n",
    "        (\"std_scaler_land_size\", StandardScaler(), [\"land_size_sm\"]),\n",
    "        (\"std_scaler_distance_from_center\", StandardScaler(), [\"distance_from_center\"]),\n",
    "    ],\n",
    "    remainder=\"passthrough\",\n",
    ")\n",
    "\n",
    "rgr = Pipeline(\n",
    "    steps=[(\"preprocessor\", ct), (\"regressor\", GradientBoostingRegressor(random_state=42))]\n",
    ")\n",
    "\n",
    "# X_train, X_test, y_train, y_test = train_test_split(X, y, test_size=0.2, random_state=42)\n",
    "\n",
    "# rgr.fit(X_train, y_train)\n",
    "# rgr.score(X_test, y_test)\n",
    "\n",
    "cross_val_score(rgr, X, y, cv=5, scoring=\"neg_root_mean_squared_error\")"
   ]
  },
  {
   "cell_type": "markdown",
   "metadata": {
    "collapsed": false
   },
   "source": [
    "## Preprocess Data\n",
    "\n",
    "1. Drop columns that are not useful for the model\n",
    "2. Drop rows with missing values\n",
    "3. Normalize the data\n",
    "4. Encode categorical columns with one-hot encoding/ ordinal encoding\n",
    "5. Split the data into train and test sets"
   ]
  }
 ],
 "metadata": {
  "kernelspec": {
   "display_name": "automatic-potato",
   "language": "python",
   "name": "python3"
  },
  "language_info": {
   "codemirror_mode": {
    "name": "ipython",
    "version": 3
   },
   "file_extension": ".py",
   "mimetype": "text/x-python",
   "name": "python",
   "nbconvert_exporter": "python",
   "pygments_lexer": "ipython3",
   "version": "3.9.16"
  },
  "vscode": {
   "interpreter": {
    "hash": "c9e63e2971cefb10f96b0204fec2e79778dbc95b1c59e9f2f0f1595c5271aaad"
   }
  }
 },
 "nbformat": 4,
 "nbformat_minor": 0
}
