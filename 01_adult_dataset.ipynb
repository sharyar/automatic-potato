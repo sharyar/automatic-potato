{
 "cells": [
  {
   "cell_type": "code",
   "execution_count": null,
   "metadata": {
    "collapsed": true
   },
   "outputs": [],
   "source": [
    "! wget \"http://archive.ics.uci.edu/ml/machine-learning-databases/adult/adult.data\" -O data/adult.data\n",
    "! wget \"http://archive.ics.uci.edu/ml/machine-learning-databases/adult/adult.names\" -O data/adult.names\n",
    "! wget \"http://archive.ics.uci.edu/ml/machine-learning-databases/adult/adult.test\" -O data/adult.test"
   ]
  }
 ],
 "metadata": {
  "kernelspec": {
   "display_name": "Python 3",
   "language": "python",
   "name": "python3"
  },
  "language_info": {
   "codemirror_mode": {
    "name": "ipython",
    "version": 2
   },
   "file_extension": ".py",
   "mimetype": "text/x-python",
   "name": "python",
   "nbconvert_exporter": "python",
   "pygments_lexer": "ipython2",
   "version": "2.7.6"
  }
 },
 "nbformat": 4,
 "nbformat_minor": 0
}
