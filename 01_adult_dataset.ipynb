{
 "cells": [
  {
   "cell_type": "code",
   "execution_count": 72,
   "metadata": {
    "collapsed": true
   },
   "outputs": [
    {
     "name": "stdout",
     "output_type": "stream",
     "text": [
      "--2023-04-10 12:31:14--  http://archive.ics.uci.edu/ml/machine-learning-databases/adult/adult.data\n",
      "Resolving archive.ics.uci.edu (archive.ics.uci.edu)... 128.195.10.252\n",
      "Connecting to archive.ics.uci.edu (archive.ics.uci.edu)|128.195.10.252|:80... connected.\n",
      "HTTP request sent, awaiting response... 200 OK\n",
      "Length: 3974305 (3.8M) [application/x-httpd-php]\n",
      "Saving to: ‘data/adult.data’\n",
      "\n",
      "data/adult.data     100%[===================>]   3.79M  6.07MB/s    in 0.6s    \n",
      "\n",
      "2023-04-10 12:31:15 (6.07 MB/s) - ‘data/adult.data’ saved [3974305/3974305]\n",
      "\n",
      "--2023-04-10 12:31:15--  http://archive.ics.uci.edu/ml/machine-learning-databases/adult/adult.names\n",
      "Resolving archive.ics.uci.edu (archive.ics.uci.edu)... 128.195.10.252\n",
      "Connecting to archive.ics.uci.edu (archive.ics.uci.edu)|128.195.10.252|:80... connected.\n",
      "HTTP request sent, awaiting response... 200 OK\n",
      "Length: 5229 (5.1K) [application/x-httpd-php]\n",
      "Saving to: ‘data/adult.names’\n",
      "\n",
      "data/adult.names    100%[===================>]   5.11K  --.-KB/s    in 0.001s  \n",
      "\n",
      "2023-04-10 12:31:15 (5.05 MB/s) - ‘data/adult.names’ saved [5229/5229]\n",
      "\n",
      "--2023-04-10 12:31:15--  http://archive.ics.uci.edu/ml/machine-learning-databases/adult/adult.test\n",
      "Resolving archive.ics.uci.edu (archive.ics.uci.edu)... 128.195.10.252\n",
      "Connecting to archive.ics.uci.edu (archive.ics.uci.edu)|128.195.10.252|:80... connected.\n",
      "HTTP request sent, awaiting response... 200 OK\n",
      "Length: 2003153 (1.9M) [application/x-httpd-php]\n",
      "Saving to: ‘data/adult.test’\n",
      "\n",
      "data/adult.test     100%[===================>]   1.91M  3.19MB/s    in 0.6s    \n",
      "\n",
      "2023-04-10 12:31:16 (3.19 MB/s) - ‘data/adult.test’ saved [2003153/2003153]\n",
      "\n"
     ]
    }
   ],
   "source": [
    "! wget \"http://archive.ics.uci.edu/ml/machine-learning-databases/adult/adult.data\" -O data/adult.data\n",
    "! wget \"http://archive.ics.uci.edu/ml/machine-learning-databases/adult/adult.names\" -O data/adult.names\n",
    "! wget \"http://archive.ics.uci.edu/ml/machine-learning-databases/adult/adult.test\" -O data/adult.test"
   ]
  },
  {
   "cell_type": "code",
   "execution_count": 73,
   "metadata": {},
   "outputs": [],
   "source": [
    "import polars as pl\n",
    "import pandas as pd\n",
    "import matplotlib.pyplot as plt\n",
    "import numpy as np\n",
    "from sklearn import metrics\n",
    "from sklearn.model_selection import train_test_split\n",
    "from sklearn.ensemble import RandomForestRegressor\n",
    "from sklearn.pipeline import Pipeline\n",
    "from sklearn.decomposition import PCA\n",
    "from sklearn.preprocessing import StandardScaler, MinMaxScaler, OneHotEncoder, OrdinalEncoder, LabelEncoder\n",
    "from sklearn.compose import ColumnTransformer\n",
    "from sklearn.model_selection import cross_val_score, cross_val_predict, StratifiedKFold, GridSearchCV\n",
    "from sklearn.dummy import DummyClassifier\n",
    "from sklearn.ensemble import RandomForestClassifier, GradientBoostingClassifier\n",
    "from sklearn.linear_model import LogisticRegression"
   ]
  },
  {
   "cell_type": "code",
   "execution_count": 115,
   "metadata": {},
   "outputs": [
    {
     "name": "stdout",
     "output_type": "stream",
     "text": [
      "Dropped rows because of nulls: 3620\n"
     ]
    }
   ],
   "source": [
    "column_names = [\n",
    "    \"age\",\n",
    "    \"workclass\",\n",
    "    \"fnlwgt\",\n",
    "    \"education\",\n",
    "    \"education-num\",\n",
    "    \"marital-status\",\n",
    "    \"occupation\",\n",
    "    \"relationship\",\n",
    "    \"race\",\n",
    "    \"sex\",\n",
    "    \"capital-gain\",\n",
    "    \"capital-loss\",\n",
    "    \"hours-per-week\",\n",
    "    \"native-country\",\n",
    "    \"label\"\n",
    "]\n",
    "df = pl.read_csv(\"data/adult-all.csv\", has_header=False, null_values=\"?\")\n",
    "df.columns = column_names\n",
    "# drop nulls:\n",
    "old_len = len(df)\n",
    "df = df.drop_nulls()\n",
    "print(f\"Dropped rows because of nulls: {old_len - len(df)}\")\n",
    "\n",
    "# Convert to categorical columns from string: \n",
    "# df = df.with_columns([\n",
    "#     pl.col([\"workclass\", \"education\", \"marital-status\", \"occupation\", \"relationship\", \"race\", \"sex\", \"native-country\", \"label\"]).cast(pl.Categorical),\n",
    "# ])"
   ]
  },
  {
   "cell_type": "code",
   "execution_count": 116,
   "metadata": {},
   "outputs": [
    {
     "data": {
      "text/html": [
       "<div><style>\n",
       ".dataframe > thead > tr > th,\n",
       ".dataframe > tbody > tr > td {\n",
       "  text-align: right;\n",
       "}\n",
       "</style>\n",
       "<small>shape: (2, 2)</small><table border=\"1\" class=\"dataframe\"><thead><tr><th>label</th><th>count</th></tr><tr><td>str</td><td>u32</td></tr></thead><tbody><tr><td>&quot;&lt;=50K&quot;</td><td>34014</td></tr><tr><td>&quot;&gt;50K&quot;</td><td>11208</td></tr></tbody></table></div>"
      ],
      "text/plain": [
       "shape: (2, 2)\n",
       "┌───────┬───────┐\n",
       "│ label ┆ count │\n",
       "│ ---   ┆ ---   │\n",
       "│ str   ┆ u32   │\n",
       "╞═══════╪═══════╡\n",
       "│ <=50K ┆ 34014 │\n",
       "│ >50K  ┆ 11208 │\n",
       "└───────┴───────┘"
      ]
     },
     "execution_count": 116,
     "metadata": {},
     "output_type": "execute_result"
    }
   ],
   "source": [
    "# Counting the class distribution of the label column:\n",
    "df.groupby(\"label\", maintain_order=True).agg(pl.count())\n",
    "\n",
    "# We can see that we have a class imbalance here. We can fix this by undersampling the majority class and match the two classes."
   ]
  },
  {
   "cell_type": "code",
   "execution_count": 117,
   "metadata": {},
   "outputs": [
    {
     "name": "stdout",
     "output_type": "stream",
     "text": [
      "Categorical columns: Index(['workclass', 'education', 'marital-status', 'occupation',\n",
      "       'relationship', 'race', 'sex', 'native-country'],\n",
      "      dtype='object')\n",
      " **************************************** \n",
      "Numerical columns: Index(['age', 'fnlwgt', 'education-num', 'capital-gain', 'capital-loss',\n",
      "       'hours-per-week'],\n",
      "      dtype='object')\n",
      "Y Label column: label\n"
     ]
    }
   ],
   "source": [
    "df_pd = df.to_pandas()\n",
    "X, y = df_pd.drop(\"label\", axis=1), df_pd[\"label\"]\n",
    "\n",
    "cat_columns = X.select_dtypes(include=[\"object\", \"bool\"]).columns\n",
    "num_columns = X.select_dtypes(include=[\"int64\", \"float64\"]).columns\n",
    "\n",
    "print(f\"Categorical columns: {cat_columns}\\n\", \"*\"*40, f\"\\nNumerical columns: {num_columns}\")\n",
    "print(f\"Y Label column: {y.name}\")\n",
    "\n",
    "# Sanity Check\n",
    "assert(len(cat_columns) + len(num_columns) == len(X.columns))"
   ]
  },
  {
   "cell_type": "code",
   "execution_count": 118,
   "metadata": {},
   "outputs": [],
   "source": [
    "# Try several models to pick the best one for our use case: \n",
    "model_dict = {\n",
    "    \"rfc\" : RandomForestClassifier(n_estimators=100, max_depth=5, random_state=42),\n",
    "    \"gbc\" : GradientBoostingClassifier(n_estimators=100, random_state=42),\n",
    "    \"lrc\": LogisticRegression(),\n",
    "    \"dummy\": DummyClassifier(strategy=\"most_frequent\")\n",
    "}\n",
    "\n",
    "y_encoded = LabelEncoder().fit_transform(y)"
   ]
  },
  {
   "cell_type": "code",
   "execution_count": 119,
   "metadata": {},
   "outputs": [
    {
     "name": "stderr",
     "output_type": "stream",
     "text": [
      "/Users/sharyarmemon/anaconda3/envs/automatic-potato/lib/python3.9/site-packages/sklearn/linear_model/_logistic.py:458: ConvergenceWarning: lbfgs failed to converge (status=1):\n",
      "STOP: TOTAL NO. of ITERATIONS REACHED LIMIT.\n",
      "\n",
      "Increase the number of iterations (max_iter) or scale the data as shown in:\n",
      "    https://scikit-learn.org/stable/modules/preprocessing.html\n",
      "Please also refer to the documentation for alternative solver options:\n",
      "    https://scikit-learn.org/stable/modules/linear_model.html#logistic-regression\n",
      "  n_iter_i = _check_optimize_result(\n",
      "/Users/sharyarmemon/anaconda3/envs/automatic-potato/lib/python3.9/site-packages/sklearn/linear_model/_logistic.py:458: ConvergenceWarning: lbfgs failed to converge (status=1):\n",
      "STOP: TOTAL NO. of ITERATIONS REACHED LIMIT.\n",
      "\n",
      "Increase the number of iterations (max_iter) or scale the data as shown in:\n",
      "    https://scikit-learn.org/stable/modules/preprocessing.html\n",
      "Please also refer to the documentation for alternative solver options:\n",
      "    https://scikit-learn.org/stable/modules/linear_model.html#logistic-regression\n",
      "  n_iter_i = _check_optimize_result(\n",
      "/Users/sharyarmemon/anaconda3/envs/automatic-potato/lib/python3.9/site-packages/sklearn/linear_model/_logistic.py:458: ConvergenceWarning: lbfgs failed to converge (status=1):\n",
      "STOP: TOTAL NO. of ITERATIONS REACHED LIMIT.\n",
      "\n",
      "Increase the number of iterations (max_iter) or scale the data as shown in:\n",
      "    https://scikit-learn.org/stable/modules/preprocessing.html\n",
      "Please also refer to the documentation for alternative solver options:\n",
      "    https://scikit-learn.org/stable/modules/linear_model.html#logistic-regression\n",
      "  n_iter_i = _check_optimize_result(\n",
      "/Users/sharyarmemon/anaconda3/envs/automatic-potato/lib/python3.9/site-packages/sklearn/linear_model/_logistic.py:458: ConvergenceWarning: lbfgs failed to converge (status=1):\n",
      "STOP: TOTAL NO. of ITERATIONS REACHED LIMIT.\n",
      "\n",
      "Increase the number of iterations (max_iter) or scale the data as shown in:\n",
      "    https://scikit-learn.org/stable/modules/preprocessing.html\n",
      "Please also refer to the documentation for alternative solver options:\n",
      "    https://scikit-learn.org/stable/modules/linear_model.html#logistic-regression\n",
      "  n_iter_i = _check_optimize_result(\n",
      "/Users/sharyarmemon/anaconda3/envs/automatic-potato/lib/python3.9/site-packages/sklearn/linear_model/_logistic.py:458: ConvergenceWarning: lbfgs failed to converge (status=1):\n",
      "STOP: TOTAL NO. of ITERATIONS REACHED LIMIT.\n",
      "\n",
      "Increase the number of iterations (max_iter) or scale the data as shown in:\n",
      "    https://scikit-learn.org/stable/modules/preprocessing.html\n",
      "Please also refer to the documentation for alternative solver options:\n",
      "    https://scikit-learn.org/stable/modules/linear_model.html#logistic-regression\n",
      "  n_iter_i = _check_optimize_result(\n",
      "/Users/sharyarmemon/anaconda3/envs/automatic-potato/lib/python3.9/site-packages/sklearn/linear_model/_logistic.py:458: ConvergenceWarning: lbfgs failed to converge (status=1):\n",
      "STOP: TOTAL NO. of ITERATIONS REACHED LIMIT.\n",
      "\n",
      "Increase the number of iterations (max_iter) or scale the data as shown in:\n",
      "    https://scikit-learn.org/stable/modules/preprocessing.html\n",
      "Please also refer to the documentation for alternative solver options:\n",
      "    https://scikit-learn.org/stable/modules/linear_model.html#logistic-regression\n",
      "  n_iter_i = _check_optimize_result(\n",
      "/Users/sharyarmemon/anaconda3/envs/automatic-potato/lib/python3.9/site-packages/sklearn/linear_model/_logistic.py:458: ConvergenceWarning: lbfgs failed to converge (status=1):\n",
      "STOP: TOTAL NO. of ITERATIONS REACHED LIMIT.\n",
      "\n",
      "Increase the number of iterations (max_iter) or scale the data as shown in:\n",
      "    https://scikit-learn.org/stable/modules/preprocessing.html\n",
      "Please also refer to the documentation for alternative solver options:\n",
      "    https://scikit-learn.org/stable/modules/linear_model.html#logistic-regression\n",
      "  n_iter_i = _check_optimize_result(\n",
      "/Users/sharyarmemon/anaconda3/envs/automatic-potato/lib/python3.9/site-packages/sklearn/linear_model/_logistic.py:458: ConvergenceWarning: lbfgs failed to converge (status=1):\n",
      "STOP: TOTAL NO. of ITERATIONS REACHED LIMIT.\n",
      "\n",
      "Increase the number of iterations (max_iter) or scale the data as shown in:\n",
      "    https://scikit-learn.org/stable/modules/preprocessing.html\n",
      "Please also refer to the documentation for alternative solver options:\n",
      "    https://scikit-learn.org/stable/modules/linear_model.html#logistic-regression\n",
      "  n_iter_i = _check_optimize_result(\n",
      "/Users/sharyarmemon/anaconda3/envs/automatic-potato/lib/python3.9/site-packages/sklearn/linear_model/_logistic.py:458: ConvergenceWarning: lbfgs failed to converge (status=1):\n",
      "STOP: TOTAL NO. of ITERATIONS REACHED LIMIT.\n",
      "\n",
      "Increase the number of iterations (max_iter) or scale the data as shown in:\n",
      "    https://scikit-learn.org/stable/modules/preprocessing.html\n",
      "Please also refer to the documentation for alternative solver options:\n",
      "    https://scikit-learn.org/stable/modules/linear_model.html#logistic-regression\n",
      "  n_iter_i = _check_optimize_result(\n",
      "/Users/sharyarmemon/anaconda3/envs/automatic-potato/lib/python3.9/site-packages/sklearn/linear_model/_logistic.py:458: ConvergenceWarning: lbfgs failed to converge (status=1):\n",
      "STOP: TOTAL NO. of ITERATIONS REACHED LIMIT.\n",
      "\n",
      "Increase the number of iterations (max_iter) or scale the data as shown in:\n",
      "    https://scikit-learn.org/stable/modules/preprocessing.html\n",
      "Please also refer to the documentation for alternative solver options:\n",
      "    https://scikit-learn.org/stable/modules/linear_model.html#logistic-regression\n",
      "  n_iter_i = _check_optimize_result(\n",
      "/Users/sharyarmemon/anaconda3/envs/automatic-potato/lib/python3.9/site-packages/sklearn/linear_model/_logistic.py:458: ConvergenceWarning: lbfgs failed to converge (status=1):\n",
      "STOP: TOTAL NO. of ITERATIONS REACHED LIMIT.\n",
      "\n",
      "Increase the number of iterations (max_iter) or scale the data as shown in:\n",
      "    https://scikit-learn.org/stable/modules/preprocessing.html\n",
      "Please also refer to the documentation for alternative solver options:\n",
      "    https://scikit-learn.org/stable/modules/linear_model.html#logistic-regression\n",
      "  n_iter_i = _check_optimize_result(\n",
      "/Users/sharyarmemon/anaconda3/envs/automatic-potato/lib/python3.9/site-packages/sklearn/linear_model/_logistic.py:458: ConvergenceWarning: lbfgs failed to converge (status=1):\n",
      "STOP: TOTAL NO. of ITERATIONS REACHED LIMIT.\n",
      "\n",
      "Increase the number of iterations (max_iter) or scale the data as shown in:\n",
      "    https://scikit-learn.org/stable/modules/preprocessing.html\n",
      "Please also refer to the documentation for alternative solver options:\n",
      "    https://scikit-learn.org/stable/modules/linear_model.html#logistic-regression\n",
      "  n_iter_i = _check_optimize_result(\n",
      "/Users/sharyarmemon/anaconda3/envs/automatic-potato/lib/python3.9/site-packages/sklearn/linear_model/_logistic.py:458: ConvergenceWarning: lbfgs failed to converge (status=1):\n",
      "STOP: TOTAL NO. of ITERATIONS REACHED LIMIT.\n",
      "\n",
      "Increase the number of iterations (max_iter) or scale the data as shown in:\n",
      "    https://scikit-learn.org/stable/modules/preprocessing.html\n",
      "Please also refer to the documentation for alternative solver options:\n",
      "    https://scikit-learn.org/stable/modules/linear_model.html#logistic-regression\n",
      "  n_iter_i = _check_optimize_result(\n",
      "/Users/sharyarmemon/anaconda3/envs/automatic-potato/lib/python3.9/site-packages/sklearn/linear_model/_logistic.py:458: ConvergenceWarning: lbfgs failed to converge (status=1):\n",
      "STOP: TOTAL NO. of ITERATIONS REACHED LIMIT.\n",
      "\n",
      "Increase the number of iterations (max_iter) or scale the data as shown in:\n",
      "    https://scikit-learn.org/stable/modules/preprocessing.html\n",
      "Please also refer to the documentation for alternative solver options:\n",
      "    https://scikit-learn.org/stable/modules/linear_model.html#logistic-regression\n",
      "  n_iter_i = _check_optimize_result(\n",
      "/Users/sharyarmemon/anaconda3/envs/automatic-potato/lib/python3.9/site-packages/sklearn/linear_model/_logistic.py:458: ConvergenceWarning: lbfgs failed to converge (status=1):\n",
      "STOP: TOTAL NO. of ITERATIONS REACHED LIMIT.\n",
      "\n",
      "Increase the number of iterations (max_iter) or scale the data as shown in:\n",
      "    https://scikit-learn.org/stable/modules/preprocessing.html\n",
      "Please also refer to the documentation for alternative solver options:\n",
      "    https://scikit-learn.org/stable/modules/linear_model.html#logistic-regression\n",
      "  n_iter_i = _check_optimize_result(\n"
     ]
    }
   ],
   "source": [
    "from sklearn.model_selection import RepeatedStratifiedKFold\n",
    "\n",
    "results = {}\n",
    "for name, model in model_dict.items():\n",
    "    transformation_steps = [\n",
    "        (\"cat\", OneHotEncoder(handle_unknown=\"ignore\"), cat_columns),\n",
    "        (\"num\", MinMaxScaler(), num_columns)\n",
    "    ]\n",
    "    column_transformer = ColumnTransformer(transformers=transformation_steps)\n",
    "    pipeline = Pipeline(steps=[\n",
    "        ('col_transformer', column_transformer),\n",
    "        ('model', model)\n",
    "    ])\n",
    "    cv = RepeatedStratifiedKFold(n_splits=5, n_repeats=3, random_state=42)\n",
    "    scores = cross_val_score(pipeline, X, y_encoded, scoring=\"accuracy\", cv=cv, n_jobs=-1)\n",
    "    \n",
    "    results[name] = scores\n",
    "    \n",
    "    "
   ]
  },
  {
   "cell_type": "code",
   "execution_count": 120,
   "metadata": {},
   "outputs": [
    {
     "name": "stdout",
     "output_type": "stream",
     "text": [
      "{'rfc': array([0.82819237, 0.8432283 , 0.83381247, 0.8325962 , 0.83215391,\n",
      "       0.83250415, 0.83935876, 0.83171163, 0.83856701, 0.83115878,\n",
      "       0.83349917, 0.82907684, 0.83126935, 0.83547103, 0.83536046]), 'gbc': array([0.85948038, 0.8750691 , 0.86068111, 0.86145511, 0.86001769,\n",
      "       0.85572139, 0.86733002, 0.86775763, 0.86543565, 0.85990712,\n",
      "       0.85837479, 0.86323936, 0.86145511, 0.8641088 , 0.86399823]), 'lrc': array([0.84488668, 0.8564953 , 0.84398496, 0.84475896, 0.84564352,\n",
      "       0.83836374, 0.84754008, 0.84918178, 0.84962406, 0.8487395 ,\n",
      "       0.84687673, 0.84798231, 0.84719151, 0.84531181, 0.84896064]), 'dummy': array([0.75212825, 0.75212825, 0.75221141, 0.75221141, 0.75210084,\n",
      "       0.75212825, 0.75212825, 0.75221141, 0.75221141, 0.75210084,\n",
      "       0.75212825, 0.75212825, 0.75221141, 0.75221141, 0.75210084])}\n"
     ]
    }
   ],
   "source": [
    "print(results)"
   ]
  },
  {
   "cell_type": "code",
   "execution_count": null,
   "metadata": {},
   "outputs": [],
   "source": []
  }
 ],
 "metadata": {
  "kernelspec": {
   "display_name": "Python 3",
   "language": "python",
   "name": "python3"
  },
  "language_info": {
   "codemirror_mode": {
    "name": "ipython",
    "version": 3
   },
   "file_extension": ".py",
   "mimetype": "text/x-python",
   "name": "python",
   "nbconvert_exporter": "python",
   "pygments_lexer": "ipython3",
   "version": "3.9.16"
  }
 },
 "nbformat": 4,
 "nbformat_minor": 0
}
